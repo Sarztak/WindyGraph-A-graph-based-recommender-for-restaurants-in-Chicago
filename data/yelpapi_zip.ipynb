{
 "cells": [
  {
   "cell_type": "code",
   "execution_count": null,
   "metadata": {},
   "outputs": [],
   "source": [
    "import requests\n",
    "import pandas as pd\n",
    "import time"
   ]
  },
  {
   "cell_type": "code",
   "execution_count": null,
   "metadata": {},
   "outputs": [],
   "source": [
    "zipcode = pd.read_csv(\"USZipsWithLatLon_20231227.csv\")\n",
    "postal_codes = [\n",
    "    60602, 60611, 60610, 60605, 60616, 60607, 60614, 60622, 60612, 60624,\n",
    "    60644, 60651, 60647, 60639, 60707, 60675, 60613, 60618, 60641,\n",
    "    60640, 60625, 60630, 60660, 60659, 60646, 60626, 60645,\n",
    "    60608, 60623, 60653, 60615, 60609, 60632, 60637, 60621, 60636, 60629,\n",
    "    60638, 60649, 60619, 60620, 60617, 60628, 60643, 60655, 60633, 60827\n",
    "]\n",
    "\n",
    "chi_zip = zipcode[\n",
    "(zipcode[\"postal code\"].astype(int).isin(postal_codes))\n",
    "]"
   ]
  },
  {
   "cell_type": "code",
   "execution_count": null,
   "metadata": {},
   "outputs": [],
   "source": [
    "API_KEY = \"****\"\n",
    "headers = {\n",
    "    \"Accept\": \"application/json\",\n",
    "    \"Authorization\": f\"Bearer {API_KEY}\"\n",
    "}\n",
    "url = \"https://api.yelp.com/v3/businesses/search\"\n",
    "\n",
    "# fashion\n",
    "# hotelstrave\n",
    "# popuprestaurants\n",
    "# outlet_stores\n",
    "# deptstores\n",
    "CATEGORIES = (\n",
    "    \"restaurants,nightlife,food,\"\n",
    "    \"arts,shoppingcenters,\"\n",
    "    \"publicmarkets\"\n",
    ")\n",
    "\n",
    "RADIUS     = 850\n",
    "LIMIT      = 50\n",
    "MAX_RESULTS = 240\n",
    "MAX_OFFSET  = MAX_RESULTS - LIMIT\n"
   ]
  },
  {
   "cell_type": "code",
   "execution_count": null,
   "metadata": {},
   "outputs": [],
   "source": [
    "all_rows = []\n",
    "\n",
    "for _, row in chi_zip.iterrows():\n",
    "    lat  = row[\"latitude\"]\n",
    "    lng  = row[\"longitude\"]\n",
    "    zc   = row[\"postal code\"]\n",
    "    \n",
    "    print(f\"ZIP {zc}  (lat={lat}, lng={lng})\")\n",
    "    \n",
    "    for offset in range(0, MAX_OFFSET + 1, LIMIT):\n",
    "        params = {\n",
    "            \"latitude\":  lat,\n",
    "            \"longitude\": lng,\n",
    "            \"radius\":    RADIUS,\n",
    "            \"categories\": CATEGORIES,\n",
    "            \"sort_by\": \"review_count\",\n",
    "            \"limit\":     LIMIT,\n",
    "            \"offset\":    offset\n",
    "            \n",
    "        }\n",
    "        r = requests.get(url, headers=headers, params=params)\n",
    "        r.raise_for_status()\n",
    "        js = r.json()\n",
    "        biz = js.get(\"businesses\", [])\n",
    "        \n",
    "        if not biz:\n",
    "            break\n",
    "        \n",
    "        for b in biz:\n",
    "            b[\"query_zip\"]       = zc\n",
    "            b[\"query_latitude\"]  = lat\n",
    "            b[\"query_longitude\"] = lng\n",
    "        \n",
    "        all_rows.extend(biz)\n",
    "        \n",
    "        time.sleep(0.4)\n",
    "    "
   ]
  },
  {
   "cell_type": "code",
   "execution_count": null,
   "metadata": {},
   "outputs": [],
   "source": [
    "result_df = (\n",
    "    pd.json_normalize(all_rows)\n",
    "      .drop_duplicates(subset=\"id\")\n",
    "      .reset_index(drop=True)\n",
    ")\n",
    "\n",
    "print(f\"Total of {result_df.shape[0]} businesses\")\n",
    "print(result_df.head())\n",
    "result_df.to_csv(\"result_df_allzip.csv\", index=False)"
   ]
  }
 ],
 "metadata": {
  "kernelspec": {
   "display_name": "ml_env",
   "language": "python",
   "name": "python3"
  },
  "language_info": {
   "name": "python",
   "version": "3.12.9"
  }
 },
 "nbformat": 4,
 "nbformat_minor": 2
}
